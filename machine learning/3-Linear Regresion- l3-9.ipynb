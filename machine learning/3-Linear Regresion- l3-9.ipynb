{
 "cells": [
  {
   "cell_type": "markdown",
   "id": "f8c82c4e",
   "metadata": {},
   "source": [
    "# LINEAR REGRESSION L3"
   ]
  },
  {
   "cell_type": "code",
   "execution_count": 15,
   "id": "6f216a7c",
   "metadata": {},
   "outputs": [
    {
     "data": {
      "text/html": [
       "<div>\n",
       "<style scoped>\n",
       "    .dataframe tbody tr th:only-of-type {\n",
       "        vertical-align: middle;\n",
       "    }\n",
       "\n",
       "    .dataframe tbody tr th {\n",
       "        vertical-align: top;\n",
       "    }\n",
       "\n",
       "    .dataframe thead th {\n",
       "        text-align: right;\n",
       "    }\n",
       "</style>\n",
       "<table border=\"1\" class=\"dataframe\">\n",
       "  <thead>\n",
       "    <tr style=\"text-align: right;\">\n",
       "      <th></th>\n",
       "      <th>x</th>\n",
       "      <th>y</th>\n",
       "    </tr>\n",
       "  </thead>\n",
       "  <tbody>\n",
       "    <tr>\n",
       "      <th>0</th>\n",
       "      <td>24.0</td>\n",
       "      <td>21.549452</td>\n",
       "    </tr>\n",
       "    <tr>\n",
       "      <th>1</th>\n",
       "      <td>50.0</td>\n",
       "      <td>47.464463</td>\n",
       "    </tr>\n",
       "    <tr>\n",
       "      <th>2</th>\n",
       "      <td>15.0</td>\n",
       "      <td>17.218656</td>\n",
       "    </tr>\n",
       "    <tr>\n",
       "      <th>3</th>\n",
       "      <td>38.0</td>\n",
       "      <td>36.586398</td>\n",
       "    </tr>\n",
       "    <tr>\n",
       "      <th>4</th>\n",
       "      <td>87.0</td>\n",
       "      <td>87.288984</td>\n",
       "    </tr>\n",
       "    <tr>\n",
       "      <th>5</th>\n",
       "      <td>36.0</td>\n",
       "      <td>32.463875</td>\n",
       "    </tr>\n",
       "    <tr>\n",
       "      <th>6</th>\n",
       "      <td>12.0</td>\n",
       "      <td>10.780897</td>\n",
       "    </tr>\n",
       "    <tr>\n",
       "      <th>7</th>\n",
       "      <td>81.0</td>\n",
       "      <td>80.763399</td>\n",
       "    </tr>\n",
       "    <tr>\n",
       "      <th>8</th>\n",
       "      <td>25.0</td>\n",
       "      <td>24.612151</td>\n",
       "    </tr>\n",
       "    <tr>\n",
       "      <th>9</th>\n",
       "      <td>5.0</td>\n",
       "      <td>6.963319</td>\n",
       "    </tr>\n",
       "  </tbody>\n",
       "</table>\n",
       "</div>"
      ],
      "text/plain": [
       "      x          y\n",
       "0  24.0  21.549452\n",
       "1  50.0  47.464463\n",
       "2  15.0  17.218656\n",
       "3  38.0  36.586398\n",
       "4  87.0  87.288984\n",
       "5  36.0  32.463875\n",
       "6  12.0  10.780897\n",
       "7  81.0  80.763399\n",
       "8  25.0  24.612151\n",
       "9   5.0   6.963319"
      ]
     },
     "execution_count": 15,
     "metadata": {},
     "output_type": "execute_result"
    }
   ],
   "source": [
    "\n",
    "\n",
    "\n",
    "import numpy as np \n",
    "import pandas as pd \n",
    "import scipy as sp\n",
    "from sklearn.linear_model import LinearRegression\n",
    "import matplotlib.pyplot as plt\n",
    "import matplotlib.axes as ax\n",
    "import os\n",
    "\n",
    "data = pd.read_csv('C:\\\\Users\\\\kriti\\\\Downloads\\\\datasets\\\\train.csv')\n",
    "\n",
    "data.head(10)"
   ]
  },
  {
   "cell_type": "code",
   "execution_count": 16,
   "id": "dad2d3ae",
   "metadata": {},
   "outputs": [
    {
     "name": "stdout",
     "output_type": "stream",
     "text": [
      "<class 'pandas.core.frame.DataFrame'>\n",
      "RangeIndex: 700 entries, 0 to 699\n",
      "Data columns (total 2 columns):\n",
      " #   Column  Non-Null Count  Dtype  \n",
      "---  ------  --------------  -----  \n",
      " 0   x       700 non-null    float64\n",
      " 1   y       699 non-null    float64\n",
      "dtypes: float64(2)\n",
      "memory usage: 11.1 KB\n"
     ]
    }
   ],
   "source": [
    "data.info()"
   ]
  },
  {
   "cell_type": "markdown",
   "id": "8871f427",
   "metadata": {},
   "source": [
    "# LINEAR REGRESSION L4"
   ]
  },
  {
   "cell_type": "code",
   "execution_count": 17,
   "id": "3f75a5a8",
   "metadata": {},
   "outputs": [],
   "source": [
    "#data processing\n",
    "#handling null values\n",
    "data=data.dropna(axis=0)"
   ]
  },
  {
   "cell_type": "code",
   "execution_count": 18,
   "id": "f1d36f74",
   "metadata": {},
   "outputs": [
    {
     "data": {
      "text/plain": [
       "(699, 2)"
      ]
     },
     "execution_count": 18,
     "metadata": {},
     "output_type": "execute_result"
    }
   ],
   "source": [
    "data.shape"
   ]
  },
  {
   "cell_type": "code",
   "execution_count": 19,
   "id": "7fae85f6",
   "metadata": {
    "scrolled": true
   },
   "outputs": [
    {
     "name": "stdout",
     "output_type": "stream",
     "text": [
      "<class 'pandas.core.frame.DataFrame'>\n",
      "Int64Index: 699 entries, 0 to 699\n",
      "Data columns (total 2 columns):\n",
      " #   Column  Non-Null Count  Dtype  \n",
      "---  ------  --------------  -----  \n",
      " 0   x       699 non-null    float64\n",
      " 1   y       699 non-null    float64\n",
      "dtypes: float64(2)\n",
      "memory usage: 16.4 KB\n"
     ]
    }
   ],
   "source": [
    "data.info()"
   ]
  },
  {
   "cell_type": "code",
   "execution_count": 20,
   "id": "be76aa2e",
   "metadata": {},
   "outputs": [],
   "source": [
    "#splitting data first 100 to input"
   ]
  },
  {
   "cell_type": "code",
   "execution_count": 21,
   "id": "372f6f43",
   "metadata": {},
   "outputs": [],
   "source": [
    "train_input=np.array(data.x[0:500]).reshape(500,1)\n",
    "train_output=np.array(data.y[0:500]).reshape(500,1)\n",
    "\n",
    "test_input=np.array(data.x[500:700]).reshape(199,1)\n",
    "test_output=np.array(data.y[500:700]).reshape(199,1)"
   ]
  },
  {
   "cell_type": "code",
   "execution_count": 22,
   "id": "71125769",
   "metadata": {},
   "outputs": [
    {
     "data": {
      "text/plain": [
       "(500, 1)"
      ]
     },
     "execution_count": 22,
     "metadata": {},
     "output_type": "execute_result"
    }
   ],
   "source": [
    "train_input.shape"
   ]
  },
  {
   "cell_type": "code",
   "execution_count": 23,
   "id": "ba559cfc",
   "metadata": {},
   "outputs": [
    {
     "data": {
      "text/plain": [
       "(199, 1)"
      ]
     },
     "execution_count": 23,
     "metadata": {},
     "output_type": "execute_result"
    }
   ],
   "source": [
    "test_input.shape"
   ]
  },
  {
   "cell_type": "code",
   "execution_count": 24,
   "id": "1aadcd2e",
   "metadata": {},
   "outputs": [
    {
     "data": {
      "text/plain": [
       "(500, 1)"
      ]
     },
     "execution_count": 24,
     "metadata": {},
     "output_type": "execute_result"
    }
   ],
   "source": [
    "train_output.shape"
   ]
  },
  {
   "cell_type": "code",
   "execution_count": 25,
   "id": "6ddc0e38",
   "metadata": {},
   "outputs": [
    {
     "data": {
      "text/plain": [
       "(199, 1)"
      ]
     },
     "execution_count": 25,
     "metadata": {},
     "output_type": "execute_result"
    }
   ],
   "source": [
    "test_output.shape"
   ]
  },
  {
   "cell_type": "markdown",
   "id": "91d27ec5",
   "metadata": {},
   "source": [
    "# LINEAR REGRESSION L5"
   ]
  },
  {
   "cell_type": "markdown",
   "id": "59b06d3a",
   "metadata": {},
   "source": [
    "### DEFINING COST FUNCTION"
   ]
  },
  {
   "cell_type": "markdown",
   "id": "cb795c25",
   "metadata": {},
   "source": [
    "#### MEAN SQUARED ERROR, COST=[(y-f(x))^2]*2n"
   ]
  },
  {
   "cell_type": "markdown",
   "id": "d1b9beb7",
   "metadata": {},
   "source": [
    "##### where y are the actual or true values and f(x) are the predicted values"
   ]
  },
  {
   "cell_type": "code",
   "execution_count": 26,
   "id": "dbea3c1f",
   "metadata": {},
   "outputs": [],
   "source": [
    "def cost_function(predictions, train_output):\n",
    "    cost=np.mean((predictions-train_output**2))*0.5\n",
    "    return cost"
   ]
  },
  {
   "cell_type": "markdown",
   "id": "6afbab53",
   "metadata": {},
   "source": [
    "## GRADIENT DESCENT FOR BACKPROPAGATION L6"
   ]
  },
  {
   "cell_type": "code",
   "execution_count": 28,
   "id": "f5d8b219",
   "metadata": {},
   "outputs": [],
   "source": [
    "def backward_propagation(train_input,train_output,predictions):\n",
    "    derivatives=dict()\n",
    "    df=predictions-test_output\n",
    "    dm=np.mean(np.multiply(df,train_input))\n",
    "    dc=np.mean(df)\n",
    "    \n",
    "    derivatives['dm']=dm\n",
    "    derivatives['dc']=dc\n",
    "    return derivatives"
   ]
  },
  {
   "cell_type": "markdown",
   "id": "fd1b5bdd",
   "metadata": {},
   "source": [
    "# UPDATING THE PARAMETERS L7"
   ]
  },
  {
   "cell_type": "code",
   "execution_count": 29,
   "id": "3d3fde6a",
   "metadata": {},
   "outputs": [],
   "source": [
    "#m=m-(learning_rate*dm)\n",
    "#c=c-(learning_rate*dc)"
   ]
  },
  {
   "cell_type": "code",
   "execution_count": 30,
   "id": "55b6821d",
   "metadata": {},
   "outputs": [],
   "source": [
    "def update_parameters(parameters,derivatives,learning_rate):\n",
    "    parameters['m']=parameters['m']-learning_rate*derivatives['dm']\n",
    "    parameters['c']=parameters['m']-learning_rate*derivatives['dc']\n",
    "    \n",
    "    return parameters"
   ]
  },
  {
   "cell_type": "markdown",
   "id": "a273fc3a",
   "metadata": {},
   "source": [
    "### TRAINING"
   ]
  },
  {
   "cell_type": "code",
   "execution_count": null,
   "id": "4221da2d",
   "metadata": {},
   "outputs": [],
   "source": [
    "def train(train_input,train_output,learning_rate,iters):\n",
    "    parameters=dict()\n",
    "    parameters[\"m\"]=np.random.uniform(0,1)* -1\n",
    "     parameters[\"c\"]=np.random.uniform(0,1)* -1\n",
    "        loss=list()\n",
    "        for i in range (iters)\n",
    "        predictions=forward_propagation(train_input,parameters)\n",
    "        \n",
    "        cost= cost_function(predictions,train_output)\n",
    "        loss.append(cost)\n",
    "        fig,ax=ply.subplot()\n",
    "        ax.plot(train_input,train_output,'+',label='original')\n",
    "        ax.plot(train_input,train_predictions,'+',label='original')\n",
    "        \n",
    "        legend=ax.legend \n",
    "        derivatives=backward_propagation(train_input,train_output,predictions)\n",
    "        \n",
    "        parameters=upadate_parameters(parameters,derivatives,learning_rate)\n",
    "    "
   ]
  },
  {
   "cell_type": "code",
   "execution_count": null,
   "id": "85bbbc87",
   "metadata": {},
   "outputs": [],
   "source": []
  },
  {
   "cell_type": "code",
   "execution_count": null,
   "id": "9d6d1515",
   "metadata": {},
   "outputs": [],
   "source": []
  },
  {
   "cell_type": "markdown",
   "id": "71988222",
   "metadata": {},
   "source": [
    "# 8 LINEAR REGRESSION USING SKLEARN "
   ]
  },
  {
   "cell_type": "code",
   "execution_count": 23,
   "id": "beb6bef2",
   "metadata": {},
   "outputs": [],
   "source": [
    "#IMPORTING LIBRARIES"
   ]
  },
  {
   "cell_type": "code",
   "execution_count": 60,
   "id": "fb075b67",
   "metadata": {},
   "outputs": [],
   "source": [
    "import pandas as pd\n",
    "import numpy as np\n",
    "import matplotlib.pyplot as plt"
   ]
  },
  {
   "cell_type": "code",
   "execution_count": 61,
   "id": "62e169ed",
   "metadata": {},
   "outputs": [],
   "source": [
    "data = pd.read_csv('C:\\\\Users\\\\kriti\\\\Downloads\\\\datasets\\\\train.csv')"
   ]
  },
  {
   "cell_type": "code",
   "execution_count": 62,
   "id": "2738dc4d",
   "metadata": {},
   "outputs": [
    {
     "data": {
      "text/html": [
       "<div>\n",
       "<style scoped>\n",
       "    .dataframe tbody tr th:only-of-type {\n",
       "        vertical-align: middle;\n",
       "    }\n",
       "\n",
       "    .dataframe tbody tr th {\n",
       "        vertical-align: top;\n",
       "    }\n",
       "\n",
       "    .dataframe thead th {\n",
       "        text-align: right;\n",
       "    }\n",
       "</style>\n",
       "<table border=\"1\" class=\"dataframe\">\n",
       "  <thead>\n",
       "    <tr style=\"text-align: right;\">\n",
       "      <th></th>\n",
       "      <th>x</th>\n",
       "      <th>y</th>\n",
       "    </tr>\n",
       "  </thead>\n",
       "  <tbody>\n",
       "    <tr>\n",
       "      <th>0</th>\n",
       "      <td>24.0</td>\n",
       "      <td>21.549452</td>\n",
       "    </tr>\n",
       "    <tr>\n",
       "      <th>1</th>\n",
       "      <td>50.0</td>\n",
       "      <td>47.464463</td>\n",
       "    </tr>\n",
       "    <tr>\n",
       "      <th>2</th>\n",
       "      <td>15.0</td>\n",
       "      <td>17.218656</td>\n",
       "    </tr>\n",
       "    <tr>\n",
       "      <th>3</th>\n",
       "      <td>38.0</td>\n",
       "      <td>36.586398</td>\n",
       "    </tr>\n",
       "    <tr>\n",
       "      <th>4</th>\n",
       "      <td>87.0</td>\n",
       "      <td>87.288984</td>\n",
       "    </tr>\n",
       "    <tr>\n",
       "      <th>5</th>\n",
       "      <td>36.0</td>\n",
       "      <td>32.463875</td>\n",
       "    </tr>\n",
       "    <tr>\n",
       "      <th>6</th>\n",
       "      <td>12.0</td>\n",
       "      <td>10.780897</td>\n",
       "    </tr>\n",
       "    <tr>\n",
       "      <th>7</th>\n",
       "      <td>81.0</td>\n",
       "      <td>80.763399</td>\n",
       "    </tr>\n",
       "    <tr>\n",
       "      <th>8</th>\n",
       "      <td>25.0</td>\n",
       "      <td>24.612151</td>\n",
       "    </tr>\n",
       "    <tr>\n",
       "      <th>9</th>\n",
       "      <td>5.0</td>\n",
       "      <td>6.963319</td>\n",
       "    </tr>\n",
       "  </tbody>\n",
       "</table>\n",
       "</div>"
      ],
      "text/plain": [
       "      x          y\n",
       "0  24.0  21.549452\n",
       "1  50.0  47.464463\n",
       "2  15.0  17.218656\n",
       "3  38.0  36.586398\n",
       "4  87.0  87.288984\n",
       "5  36.0  32.463875\n",
       "6  12.0  10.780897\n",
       "7  81.0  80.763399\n",
       "8  25.0  24.612151\n",
       "9   5.0   6.963319"
      ]
     },
     "execution_count": 62,
     "metadata": {},
     "output_type": "execute_result"
    }
   ],
   "source": [
    "data.head(10)"
   ]
  },
  {
   "cell_type": "code",
   "execution_count": 63,
   "id": "67df4658",
   "metadata": {},
   "outputs": [
    {
     "name": "stdout",
     "output_type": "stream",
     "text": [
      "<class 'pandas.core.frame.DataFrame'>\n",
      "RangeIndex: 700 entries, 0 to 699\n",
      "Data columns (total 2 columns):\n",
      " #   Column  Non-Null Count  Dtype  \n",
      "---  ------  --------------  -----  \n",
      " 0   x       700 non-null    float64\n",
      " 1   y       699 non-null    float64\n",
      "dtypes: float64(2)\n",
      "memory usage: 11.1 KB\n"
     ]
    }
   ],
   "source": [
    "data.info()"
   ]
  },
  {
   "cell_type": "code",
   "execution_count": 64,
   "id": "e15a8859",
   "metadata": {},
   "outputs": [],
   "source": [
    "#DATA PREPROCESSING"
   ]
  },
  {
   "cell_type": "code",
   "execution_count": 65,
   "id": "e085caea",
   "metadata": {},
   "outputs": [],
   "source": [
    "data=data.dropna()  #deleting null value in y"
   ]
  },
  {
   "cell_type": "code",
   "execution_count": 66,
   "id": "87d71019",
   "metadata": {},
   "outputs": [
    {
     "name": "stdout",
     "output_type": "stream",
     "text": [
      "<class 'pandas.core.frame.DataFrame'>\n",
      "Int64Index: 699 entries, 0 to 699\n",
      "Data columns (total 2 columns):\n",
      " #   Column  Non-Null Count  Dtype  \n",
      "---  ------  --------------  -----  \n",
      " 0   x       699 non-null    float64\n",
      " 1   y       699 non-null    float64\n",
      "dtypes: float64(2)\n",
      "memory usage: 16.4 KB\n"
     ]
    }
   ],
   "source": [
    "data.info()"
   ]
  },
  {
   "cell_type": "code",
   "execution_count": 67,
   "id": "133324a8",
   "metadata": {},
   "outputs": [
    {
     "data": {
      "text/plain": [
       "(699, 2)"
      ]
     },
     "execution_count": 67,
     "metadata": {},
     "output_type": "execute_result"
    }
   ],
   "source": [
    "data.shape"
   ]
  },
  {
   "cell_type": "code",
   "execution_count": 68,
   "id": "1ae5269f",
   "metadata": {},
   "outputs": [],
   "source": [
    "#splitting data"
   ]
  },
  {
   "cell_type": "code",
   "execution_count": 69,
   "id": "8f14f8e8",
   "metadata": {},
   "outputs": [],
   "source": [
    "train_input = np.array(data.x[0:500]).reshape(500, 1)\n",
    "# Converting data.x to a NumPy array, selecting the first 500 rows, and reshaping into a column vector\n",
    "\n",
    "train_output = np.array(data.y[0:500]).reshape(500, 1)\n",
    "# Converting data.y to a NumPy array, selecting the corresponding 500 rows, and reshaping into a column vector\n",
    "\n",
    "test_input = np.array(data.x[500:700]).reshape(199, 1)\n",
    "# Converting data.x to a NumPy array, selecting rows 500 to 699, and reshaping into a column vector\n",
    "\n",
    "test_output = np.array(data.y[500:700]).reshape(199, 1)\n",
    "# Converting data.y to a NumPy array, selecting the corresponding 200 rows, and reshaping into a column vector\n"
   ]
  },
  {
   "cell_type": "code",
   "execution_count": 70,
   "id": "6b311703",
   "metadata": {},
   "outputs": [
    {
     "data": {
      "text/plain": [
       "(500, 1)"
      ]
     },
     "execution_count": 70,
     "metadata": {},
     "output_type": "execute_result"
    }
   ],
   "source": [
    "train_input.shape"
   ]
  },
  {
   "cell_type": "markdown",
   "id": "c49e6668",
   "metadata": {},
   "source": [
    "# LINEAR REGRESSION"
   ]
  },
  {
   "cell_type": "code",
   "execution_count": 71,
   "id": "0e7d93a6",
   "metadata": {},
   "outputs": [],
   "source": [
    "#TRAINING MODEL"
   ]
  },
  {
   "cell_type": "code",
   "execution_count": 72,
   "id": "5b5b73fb",
   "metadata": {},
   "outputs": [
    {
     "data": {
      "text/plain": [
       "LinearRegression()"
      ]
     },
     "execution_count": 72,
     "metadata": {},
     "output_type": "execute_result"
    }
   ],
   "source": [
    "from sklearn.linear_model import LinearRegression\n",
    "\n",
    "linear_regressor = LinearRegression()\n",
    "linear_regressor.fit(train_input, train_output)\n"
   ]
  },
  {
   "cell_type": "code",
   "execution_count": 73,
   "id": "691da707",
   "metadata": {},
   "outputs": [
    {
     "data": {
      "text/plain": [
       "LinearRegression()"
      ]
     },
     "execution_count": 73,
     "metadata": {},
     "output_type": "execute_result"
    }
   ],
   "source": [
    "linear_regressor\n",
    "# Using the fit method to train the linear regression model"
   ]
  },
  {
   "cell_type": "code",
   "execution_count": 58,
   "id": "6574936b",
   "metadata": {},
   "outputs": [],
   "source": [
    "#predicting test_input"
   ]
  },
  {
   "cell_type": "code",
   "execution_count": 74,
   "id": "59255165",
   "metadata": {},
   "outputs": [],
   "source": [
    "#feeding testing input\n",
    "\n",
    "predicted_value=linear_regressor.predict(test_input)"
   ]
  },
  {
   "cell_type": "code",
   "execution_count": 75,
   "id": "85821ced",
   "metadata": {},
   "outputs": [
    {
     "data": {
      "text/plain": [
       "array([[ 4.76896187],\n",
       "       [60.82492252],\n",
       "       [46.81093236],\n",
       "       [97.86189652],\n",
       "       [29.7939443 ],\n",
       "       [62.82692111],\n",
       "       [-0.23603461],\n",
       "       [99.86389511],\n",
       "       [17.78195274],\n",
       "       [29.7939443 ],\n",
       "       [97.86189652],\n",
       "       [15.77995414],\n",
       "       [21.78594992],\n",
       "       [54.81892673],\n",
       "       [42.80693517],\n",
       "       [74.83891268],\n",
       "       [90.85490143],\n",
       "       [45.80993306],\n",
       "       [84.84890565],\n",
       "       [54.81892673],\n",
       "       [35.79994009],\n",
       "       [48.81293095],\n",
       "       [93.85789933],\n",
       "       [42.80693517],\n",
       "       [21.78594992],\n",
       "       [36.80093938],\n",
       "       [23.78794852],\n",
       "       [94.85889862],\n",
       "       [60.82492252],\n",
       "       [74.83891268],\n",
       "       [67.8319176 ],\n",
       "       [57.82192463],\n",
       "       [ 4.76896187],\n",
       "       [52.81692814],\n",
       "       [79.84390916],\n",
       "       [82.84690706],\n",
       "       [24.78894782],\n",
       "       [33.79794149],\n",
       "       [25.78994711],\n",
       "       [89.85390214],\n",
       "       [59.82392322],\n",
       "       [48.81293095],\n",
       "       [18.78295203],\n",
       "       [91.85590073],\n",
       "       [28.79294501],\n",
       "       [ 7.77195976],\n",
       "       [56.82092533],\n",
       "       [28.79294501],\n",
       "       [18.78295203],\n",
       "       [80.84490846],\n",
       "       [49.81393025],\n",
       "       [14.77895484],\n",
       "       [69.83391619],\n",
       "       [38.80293798],\n",
       "       [42.80693517],\n",
       "       [20.78495063],\n",
       "       [97.86189652],\n",
       "       [85.84990495],\n",
       "       [15.77995414],\n",
       "       [24.78894782],\n",
       "       [30.7949436 ],\n",
       "       [92.85690003],\n",
       "       [66.8309183 ],\n",
       "       [48.81293095],\n",
       "       [24.78894782],\n",
       "       [87.85190354],\n",
       "       [53.81792744],\n",
       "       [20.78495063],\n",
       "       [ 7.77195976],\n",
       "       [31.7959429 ],\n",
       "       [34.79894079],\n",
       "       [66.8309183 ],\n",
       "       [89.85390214],\n",
       "       [58.82292392],\n",
       "       [14.77895484],\n",
       "       [66.8309183 ],\n",
       "       [41.80593587],\n",
       "       [43.80793446],\n",
       "       [76.84091127],\n",
       "       [67.8319176 ],\n",
       "       [35.79994009],\n",
       "       [10.77495765],\n",
       "       [ 9.77395836],\n",
       "       [64.82891971],\n",
       "       [97.86189652],\n",
       "       [97.86189652],\n",
       "       [48.81293095],\n",
       "       [30.7949436 ],\n",
       "       [55.81992603],\n",
       "       [69.83391619],\n",
       "       [90.85490143],\n",
       "       [24.78894782],\n",
       "       [53.81792744],\n",
       "       [38.80293798],\n",
       "       [90.85490143],\n",
       "       [ 2.76696328],\n",
       "       [21.78594992],\n",
       "       [ 1.76596398],\n",
       "       [ 1.76596398],\n",
       "       [64.82891971],\n",
       "       [70.83491549],\n",
       "       [41.80593587],\n",
       "       [75.83991198],\n",
       "       [42.80693517],\n",
       "       [ 7.77195976],\n",
       "       [85.84990495],\n",
       "       [86.85090425],\n",
       "       [ 2.76696328],\n",
       "       [57.82192463],\n",
       "       [61.82592181],\n",
       "       [88.85290284],\n",
       "       [94.85889862],\n",
       "       [27.79194571],\n",
       "       [-0.23603461],\n",
       "       [ 0.76496468],\n",
       "       [48.81293095],\n",
       "       [20.78495063],\n",
       "       [45.80993306],\n",
       "       [10.77495765],\n",
       "       [88.85290284],\n",
       "       [36.80093938],\n",
       "       [28.79294501],\n",
       "       [43.80793446],\n",
       "       [95.85989792],\n",
       "       [15.77995414],\n",
       "       [73.83791338],\n",
       "       [34.79894079],\n",
       "       [41.80593587],\n",
       "       [15.77995414],\n",
       "       [55.81992603],\n",
       "       [17.78195274],\n",
       "       [99.86389511],\n",
       "       [53.81792744],\n",
       "       [91.85590073],\n",
       "       [62.82692111],\n",
       "       [80.84490846],\n",
       "       [72.83691408],\n",
       "       [47.81193165],\n",
       "       [ 0.76496468],\n",
       "       [84.84890565],\n",
       "       [13.77795555],\n",
       "       [24.78894782],\n",
       "       [44.80893376],\n",
       "       [97.86189652],\n",
       "       [96.86089722],\n",
       "       [57.82192463],\n",
       "       [92.85690003],\n",
       "       [87.85190354],\n",
       "       [88.85290284],\n",
       "       [46.81093236],\n",
       "       [ 5.76996117],\n",
       "       [33.79794149],\n",
       "       [29.7939443 ],\n",
       "       [15.77995414],\n",
       "       [85.84990495],\n",
       "       [39.80393727],\n",
       "       [51.81592884],\n",
       "       [14.77895484],\n",
       "       [ 3.76796257],\n",
       "       [94.85889862],\n",
       "       [98.86289581],\n",
       "       [34.79894079],\n",
       "       [57.82192463],\n",
       "       [ 9.77395836],\n",
       "       [15.77995414],\n",
       "       [52.81692814],\n",
       "       [57.82192463],\n",
       "       [41.80593587],\n",
       "       [23.78794852],\n",
       "       [83.84790635],\n",
       "       [63.82792041],\n",
       "       [11.77595695],\n",
       "       [60.82492252],\n",
       "       [74.83891268],\n",
       "       [14.77895484],\n",
       "       [99.86389511],\n",
       "       [42.80693517],\n",
       "       [12.77695625],\n",
       "       [47.81193165],\n",
       "       [44.80893376],\n",
       "       [51.81592884],\n",
       "       [33.79794149],\n",
       "       [29.7939443 ],\n",
       "       [64.82891971],\n",
       "       [99.86389511],\n",
       "       [66.8309183 ],\n",
       "       [98.86289581],\n",
       "       [44.80893376],\n",
       "       [86.85090425],\n",
       "       [72.83691408],\n",
       "       [ 8.77295906],\n",
       "       [80.84490846],\n",
       "       [71.83591479],\n",
       "       [80.84490846],\n",
       "       [57.82192463],\n",
       "       [92.85690003],\n",
       "       [81.84590776],\n",
       "       [65.829919  ],\n",
       "       [96.86089722]])"
      ]
     },
     "execution_count": 75,
     "metadata": {},
     "output_type": "execute_result"
    }
   ],
   "source": [
    "predicted_value"
   ]
  },
  {
   "cell_type": "code",
   "execution_count": 76,
   "id": "c22b0727",
   "metadata": {},
   "outputs": [
    {
     "data": {
      "text/plain": [
       "array([[  7.68202459],\n",
       "       [ 61.01858089],\n",
       "       [ 53.60562216],\n",
       "       [ 94.47728801],\n",
       "       [ 27.9645947 ],\n",
       "       [ 62.55662585],\n",
       "       [  1.40625441],\n",
       "       [101.7003412 ],\n",
       "       [ 13.84973988],\n",
       "       [ 28.99769315],\n",
       "       [ 99.04315693],\n",
       "       [ 15.56135514],\n",
       "       [ 24.63528393],\n",
       "       [ 53.98393374],\n",
       "       [ 42.91449728],\n",
       "       [ 74.29662112],\n",
       "       [ 91.17012883],\n",
       "       [ 49.42440876],\n",
       "       [ 82.47683519],\n",
       "       [ 56.15303953],\n",
       "       [ 37.17063131],\n",
       "       [ 46.36928662],\n",
       "       [ 97.02383456],\n",
       "       [ 40.83182104],\n",
       "       [ 24.08498313],\n",
       "       [ 41.14386358],\n",
       "       [ 21.97388066],\n",
       "       [100.740897  ],\n",
       "       [ 61.19971596],\n",
       "       [ 74.39517002],\n",
       "       [ 69.04377173],\n",
       "       [ 56.68718792],\n",
       "       [  5.86039171],\n",
       "       [ 55.72021356],\n",
       "       [ 79.22021816],\n",
       "       [ 86.30177517],\n",
       "       [ 25.26971886],\n",
       "       [ 36.33294447],\n",
       "       [ 27.65574228],\n",
       "       [ 94.79690531],\n",
       "       [ 58.67366671],\n",
       "       [ 56.15934471],\n",
       "       [ 18.40919388],\n",
       "       [ 86.26936988],\n",
       "       [ 26.59436195],\n",
       "       [  8.45252016],\n",
       "       [ 56.18131518],\n",
       "       [ 27.65452669],\n",
       "       [ 20.87391785],\n",
       "       [ 77.83354439],\n",
       "       [ 50.01787825],\n",
       "       [  9.29085626],\n",
       "       [ 75.0284725 ],\n",
       "       [ 38.3037698 ],\n",
       "       [ 44.70786405],\n",
       "       [ 22.51016575],\n",
       "       [102.4959452 ],\n",
       "       [ 86.76845244],\n",
       "       [ 13.89748578],\n",
       "       [ 24.81824269],\n",
       "       [ 33.94224862],\n",
       "       [ 92.26970059],\n",
       "       [ 68.73365081],\n",
       "       [ 47.38516883],\n",
       "       [ 32.37576914],\n",
       "       [ 87.67388681],\n",
       "       [ 54.57648371],\n",
       "       [ 18.06450222],\n",
       "       [  7.89653984],\n",
       "       [ 35.00341078],\n",
       "       [ 36.72823317],\n",
       "       [ 65.84975426],\n",
       "       [ 89.59295492],\n",
       "       [ 61.69026202],\n",
       "       [ 11.60499315],\n",
       "       [ 71.0826803 ],\n",
       "       [ 43.71901164],\n",
       "       [ 41.57421008],\n",
       "       [ 74.25552425],\n",
       "       [ 66.28310437],\n",
       "       [ 36.62438077],\n",
       "       [ 10.32374866],\n",
       "       [  7.15645766],\n",
       "       [ 67.88603132],\n",
       "       [101.1097591 ],\n",
       "       [ 98.6132033 ],\n",
       "       [ 50.19083844],\n",
       "       [ 27.83896261],\n",
       "       [ 55.9249564 ],\n",
       "       [ 76.47340872],\n",
       "       [ 92.05756378],\n",
       "       [ 27.35245439],\n",
       "       [ 55.32083476],\n",
       "       [ 41.39990349],\n",
       "       [ 93.59057024],\n",
       "       [  5.29705403],\n",
       "       [ 21.01429422],\n",
       "       [  2.26705945],\n",
       "       [ -0.1218605 ],\n",
       "       [ 66.49546208],\n",
       "       [ 73.83637687],\n",
       "       [ 42.10140878],\n",
       "       [ 77.35135732],\n",
       "       [ 41.02251779],\n",
       "       [ 14.75305272],\n",
       "       [ 83.28199022],\n",
       "       [ 89.93374342],\n",
       "       [  2.28657169],\n",
       "       [ 55.61421297],\n",
       "       [ 62.15313408],\n",
       "       [ 89.55803528],\n",
       "       [ 94.00291863],\n",
       "       [ 26.78023848],\n",
       "       [ -0.76453763],\n",
       "       [  0.282866  ],\n",
       "       [ 44.26800515],\n",
       "       [ 19.85174138],\n",
       "       [ 47.15960005],\n",
       "       [  8.35936657],\n",
       "       [ 92.08157084],\n",
       "       [ 41.88734051],\n",
       "       [ 30.5413129 ],\n",
       "       [ 46.87654473],\n",
       "       [ 96.35659485],\n",
       "       [ 17.9170699 ],\n",
       "       [ 71.67949917],\n",
       "       [ 32.64997554],\n",
       "       [ 39.34482965],\n",
       "       [ 17.03401999],\n",
       "       [ 52.87524074],\n",
       "       [ 15.85414849],\n",
       "       [108.8716183 ],\n",
       "       [ 49.30477253],\n",
       "       [ 89.4749477 ],\n",
       "       [ 63.67348242],\n",
       "       [ 83.78410946],\n",
       "       [ 73.51136922],\n",
       "       [ 46.80297244],\n",
       "       [  5.8099468 ],\n",
       "       [ 85.23027975],\n",
       "       [ 10.58213964],\n",
       "       [ 21.37698317],\n",
       "       [ 46.0537745 ],\n",
       "       [ 95.2389253 ],\n",
       "       [ 94.15149206],\n",
       "       [ 54.54868046],\n",
       "       [ 87.36260449],\n",
       "       [ 88.47741598],\n",
       "       [ 84.48045678],\n",
       "       [ 48.79647071],\n",
       "       [ 10.76675683],\n",
       "       [ 30.48882921],\n",
       "       [ 29.76846185],\n",
       "       [ 13.51574749],\n",
       "       [ 86.12955884],\n",
       "       [ 43.30022747],\n",
       "       [ 51.92110232],\n",
       "       [ 16.49185287],\n",
       "       [  7.99807343],\n",
       "       [ 97.66689567],\n",
       "       [ 89.80545367],\n",
       "       [ 38.07166567],\n",
       "       [ 60.27852322],\n",
       "       [  6.70919576],\n",
       "       [ 18.35488924],\n",
       "       [ 56.37058203],\n",
       "       [ 62.80064204],\n",
       "       [ 41.25155632],\n",
       "       [ 19.42637541],\n",
       "       [ 82.88935804],\n",
       "       [ 63.61364981],\n",
       "       [ 11.29627199],\n",
       "       [ 60.02274882],\n",
       "       [ 72.60339326],\n",
       "       [ 11.87964573],\n",
       "       [100.7012737 ],\n",
       "       [ 45.12420809],\n",
       "       [ 14.81106804],\n",
       "       [ 48.09368034],\n",
       "       [ 42.29145672],\n",
       "       [ 52.73389794],\n",
       "       [ 36.72396986],\n",
       "       [ 28.64535198],\n",
       "       [ 62.16675273],\n",
       "       [ 95.58459518],\n",
       "       [ 66.04325304],\n",
       "       [ 99.9566225 ],\n",
       "       [ 46.14941984],\n",
       "       [ 89.13754963],\n",
       "       [ 69.71787806],\n",
       "       [ 12.31736648],\n",
       "       [ 78.20296268],\n",
       "       [ 71.30995371],\n",
       "       [ 81.45544709],\n",
       "       [ 58.59500642],\n",
       "       [ 94.62509374],\n",
       "       [ 88.60376995],\n",
       "       [ 63.64868529],\n",
       "       [ 94.9752655 ]])"
      ]
     },
     "execution_count": 76,
     "metadata": {},
     "output_type": "execute_result"
    }
   ],
   "source": [
    "test_output"
   ]
  },
  {
   "cell_type": "code",
   "execution_count": 77,
   "id": "67f74fb1",
   "metadata": {},
   "outputs": [],
   "source": [
    "#for checking performance of model we use sklearn lib"
   ]
  },
  {
   "cell_type": "code",
   "execution_count": 78,
   "id": "ea54993b",
   "metadata": {},
   "outputs": [],
   "source": [
    "from sklearn.metrics import mean_squared_error\n",
    "error=mean_squared_error(test_output,predicted_value)"
   ]
  },
  {
   "cell_type": "code",
   "execution_count": 79,
   "id": "07f241da",
   "metadata": {},
   "outputs": [
    {
     "data": {
      "text/plain": [
       "8.030031591835371"
      ]
     },
     "execution_count": 79,
     "metadata": {},
     "output_type": "execute_result"
    }
   ],
   "source": [
    "error\n",
    "# 92 percent correct"
   ]
  },
  {
   "cell_type": "code",
   "execution_count": 80,
   "id": "81412df7",
   "metadata": {},
   "outputs": [],
   "source": [
    "#visualising the model performance"
   ]
  },
  {
   "cell_type": "code",
   "execution_count": 81,
   "id": "a718cafd",
   "metadata": {},
   "outputs": [
    {
     "data": {
      "image/png": "[encoded data removed]",
      "text/plain": [
       "<Figure size 432x288 with 1 Axes>"
      ]
     },
     "metadata": {
      "needs_background": "light"
     },
     "output_type": "display_data"
    }
   ],
   "source": [
    "#original hypothesis\n",
    "plt.plot(test_input,test_output,\"*\",color=\"green\")\n",
    "\n",
    "#model hypothesis\n",
    "\n",
    "plt.plot(test_input,predicted_value,\"*\",color=\"red\")\n",
    "\n",
    "plt.xlabel('input')\n",
    "plt.ylabel('output')\n",
    "plt.show()"
   ]
  },
  {
   "cell_type": "markdown",
   "id": "4dcb3740",
   "metadata": {},
   "source": [
    "# Polynomial Regression"
   ]
  },
  {
   "cell_type": "code",
   "execution_count": 94,
   "id": "a5bce61c",
   "metadata": {},
   "outputs": [],
   "source": [
    "#importing library\n",
    "\n",
    "import pandas as pd\n",
    "import numpy as np\n",
    "import matplotlib.pyplot as plt\n",
    "import matplotlib.axes as ax"
   ]
  },
  {
   "cell_type": "code",
   "execution_count": 95,
   "id": "21b3763d",
   "metadata": {},
   "outputs": [],
   "source": [
    "data = pd.read_csv('C:\\\\Users\\\\kriti\\\\Downloads\\\\datasets\\\\train.csv')"
   ]
  },
  {
   "cell_type": "code",
   "execution_count": 96,
   "id": "439da4f9",
   "metadata": {},
   "outputs": [
    {
     "data": {
      "text/html": [
       "<div>\n",
       "<style scoped>\n",
       "    .dataframe tbody tr th:only-of-type {\n",
       "        vertical-align: middle;\n",
       "    }\n",
       "\n",
       "    .dataframe tbody tr th {\n",
       "        vertical-align: top;\n",
       "    }\n",
       "\n",
       "    .dataframe thead th {\n",
       "        text-align: right;\n",
       "    }\n",
       "</style>\n",
       "<table border=\"1\" class=\"dataframe\">\n",
       "  <thead>\n",
       "    <tr style=\"text-align: right;\">\n",
       "      <th></th>\n",
       "      <th>x</th>\n",
       "      <th>y</th>\n",
       "    </tr>\n",
       "  </thead>\n",
       "  <tbody>\n",
       "    <tr>\n",
       "      <th>0</th>\n",
       "      <td>24.0</td>\n",
       "      <td>21.549452</td>\n",
       "    </tr>\n",
       "    <tr>\n",
       "      <th>1</th>\n",
       "      <td>50.0</td>\n",
       "      <td>47.464463</td>\n",
       "    </tr>\n",
       "    <tr>\n",
       "      <th>2</th>\n",
       "      <td>15.0</td>\n",
       "      <td>17.218656</td>\n",
       "    </tr>\n",
       "    <tr>\n",
       "      <th>3</th>\n",
       "      <td>38.0</td>\n",
       "      <td>36.586398</td>\n",
       "    </tr>\n",
       "    <tr>\n",
       "      <th>4</th>\n",
       "      <td>87.0</td>\n",
       "      <td>87.288984</td>\n",
       "    </tr>\n",
       "    <tr>\n",
       "      <th>5</th>\n",
       "      <td>36.0</td>\n",
       "      <td>32.463875</td>\n",
       "    </tr>\n",
       "    <tr>\n",
       "      <th>6</th>\n",
       "      <td>12.0</td>\n",
       "      <td>10.780897</td>\n",
       "    </tr>\n",
       "    <tr>\n",
       "      <th>7</th>\n",
       "      <td>81.0</td>\n",
       "      <td>80.763399</td>\n",
       "    </tr>\n",
       "    <tr>\n",
       "      <th>8</th>\n",
       "      <td>25.0</td>\n",
       "      <td>24.612151</td>\n",
       "    </tr>\n",
       "    <tr>\n",
       "      <th>9</th>\n",
       "      <td>5.0</td>\n",
       "      <td>6.963319</td>\n",
       "    </tr>\n",
       "  </tbody>\n",
       "</table>\n",
       "</div>"
      ],
      "text/plain": [
       "      x          y\n",
       "0  24.0  21.549452\n",
       "1  50.0  47.464463\n",
       "2  15.0  17.218656\n",
       "3  38.0  36.586398\n",
       "4  87.0  87.288984\n",
       "5  36.0  32.463875\n",
       "6  12.0  10.780897\n",
       "7  81.0  80.763399\n",
       "8  25.0  24.612151\n",
       "9   5.0   6.963319"
      ]
     },
     "execution_count": 96,
     "metadata": {},
     "output_type": "execute_result"
    }
   ],
   "source": [
    "data.head(10)"
   ]
  },
  {
   "cell_type": "code",
   "execution_count": 97,
   "id": "314890ee",
   "metadata": {},
   "outputs": [
    {
     "name": "stdout",
     "output_type": "stream",
     "text": [
      "<class 'pandas.core.frame.DataFrame'>\n",
      "RangeIndex: 700 entries, 0 to 699\n",
      "Data columns (total 2 columns):\n",
      " #   Column  Non-Null Count  Dtype  \n",
      "---  ------  --------------  -----  \n",
      " 0   x       700 non-null    float64\n",
      " 1   y       699 non-null    float64\n",
      "dtypes: float64(2)\n",
      "memory usage: 11.1 KB\n"
     ]
    }
   ],
   "source": [
    "data.info()"
   ]
  },
  {
   "cell_type": "code",
   "execution_count": 98,
   "id": "4b700bfb",
   "metadata": {},
   "outputs": [],
   "source": [
    "#DATA PROCESSING"
   ]
  },
  {
   "cell_type": "code",
   "execution_count": 99,
   "id": "36c65f6a",
   "metadata": {},
   "outputs": [],
   "source": [
    "data=data.dropna()  #deleting null value in y"
   ]
  },
  {
   "cell_type": "code",
   "execution_count": 100,
   "id": "b03cb6fb",
   "metadata": {},
   "outputs": [
    {
     "name": "stdout",
     "output_type": "stream",
     "text": [
      "<class 'pandas.core.frame.DataFrame'>\n",
      "Int64Index: 699 entries, 0 to 699\n",
      "Data columns (total 2 columns):\n",
      " #   Column  Non-Null Count  Dtype  \n",
      "---  ------  --------------  -----  \n",
      " 0   x       699 non-null    float64\n",
      " 1   y       699 non-null    float64\n",
      "dtypes: float64(2)\n",
      "memory usage: 16.4 KB\n"
     ]
    }
   ],
   "source": [
    "data.info()"
   ]
  },
  {
   "cell_type": "code",
   "execution_count": 101,
   "id": "d77ce0d4",
   "metadata": {},
   "outputs": [
    {
     "name": "stdout",
     "output_type": "stream",
     "text": [
      "Train Input Shape=()\n",
      "Train output Shape=()\n",
      "Train Input Shape=()\n",
      "Train Input Shape=()\n"
     ]
    }
   ],
   "source": [
    "#splitting data\n",
    "train_input = np.array(data.x[0:500]).reshape(500, 1)\n",
    "# Converting data.x to a NumPy array, selecting the first 500 rows, and reshaping into a column vector\n",
    "\n",
    "train_output = np.array(data.y[0:500]).reshape(500, 1)\n",
    "# Converting data.y to a NumPy array, selecting the corresponding 500 rows, and reshaping into a column vector\n",
    "\n",
    "test_input = np.array(data.x[500:700]).reshape(199, 1)\n",
    "# Converting data.x to a NumPy array, selecting rows 500 to 699, and reshaping into a column vector\n",
    "\n",
    "test_output = np.array(data.y[500:700]).reshape(199, 1)\n",
    "# Converting data.y to a NumPy array, selecting the corresponding 200 rows, and reshaping into a column vector\n",
    "\n",
    "#print the shapes\n",
    "\n",
    "\n",
    "print(\"Train Input Shape=()\".format(train_output.shape) )\n",
    "print(\"Train output Shape=()\".format(train_output.shape) )\n",
    "print(\"Train Input Shape=()\".format(train_input.shape) )\n",
    "print(\"Train Input Shape=()\".format(train_output.shape) )"
   ]
  },
  {
   "cell_type": "code",
   "execution_count": 102,
   "id": "e19f95de",
   "metadata": {},
   "outputs": [],
   "source": [
    "#Training model"
   ]
  },
  {
   "cell_type": "code",
   "execution_count": 104,
   "id": "d552288f",
   "metadata": {},
   "outputs": [
    {
     "data": {
      "text/plain": [
       "PolynomialFeatures()"
      ]
     },
     "execution_count": 104,
     "metadata": {},
     "output_type": "execute_result"
    }
   ],
   "source": [
    "from sklearn.linear_model import LinearRegression\n",
    "from sklearn.preprocessing import PolynomialFeatures\n",
    "\n",
    "poly_regressor=PolynomialFeatures(degree=2)\n",
    "#has fn (theta1+theta2)+(theta1=theta2)^2\n",
    "train_input_poly=poly_regressor.fit_transform(train_input)\n",
    "\n",
    "poly_regressor.fit(train_input,train_output)"
   ]
  },
  {
   "cell_type": "code",
   "execution_count": 106,
   "id": "a3badd73",
   "metadata": {},
   "outputs": [
    {
     "data": {
      "text/plain": [
       "array([[1.000e+00, 2.400e+01, 5.760e+02],\n",
       "       [1.000e+00, 5.000e+01, 2.500e+03],\n",
       "       [1.000e+00, 1.500e+01, 2.250e+02],\n",
       "       ...,\n",
       "       [1.000e+00, 2.100e+01, 4.410e+02],\n",
       "       [1.000e+00, 8.100e+01, 6.561e+03],\n",
       "       [1.000e+00, 9.700e+01, 9.409e+03]])"
      ]
     },
     "execution_count": 106,
     "metadata": {},
     "output_type": "execute_result"
    }
   ],
   "source": [
    "train_input_poly"
   ]
  },
  {
   "cell_type": "code",
   "execution_count": 107,
   "id": "c890c4ac",
   "metadata": {},
   "outputs": [
    {
     "data": {
      "text/plain": [
       "LinearRegression()"
      ]
     },
     "execution_count": 107,
     "metadata": {},
     "output_type": "execute_result"
    }
   ],
   "source": [
    "linear_regression=LinearRegression()\n",
    "linear_regressor.fit(train_input_poly,train_output)"
   ]
  },
  {
   "cell_type": "code",
   "execution_count": 108,
   "id": "5ec0bf54",
   "metadata": {},
   "outputs": [],
   "source": [
    "#predicting Test_input"
   ]
  },
  {
   "cell_type": "code",
   "execution_count": 109,
   "id": "4288f3c2",
   "metadata": {},
   "outputs": [],
   "source": [
    "predicted_value=linear_regressor.predict(poly_regressor.fit_transform(test_input))"
   ]
  },
  {
   "cell_type": "code",
   "execution_count": 111,
   "id": "a4d7a9ae",
   "metadata": {},
   "outputs": [],
   "source": [
    "from sklearn.metrics import mean_squared_error\n",
    "error=mean_squared_error(predicted_value,test_output)"
   ]
  },
  {
   "cell_type": "code",
   "execution_count": 112,
   "id": "f52752d1",
   "metadata": {},
   "outputs": [
    {
     "data": {
      "text/plain": [
       "8.063337564451189"
      ]
     },
     "execution_count": 112,
     "metadata": {},
     "output_type": "execute_result"
    }
   ],
   "source": [
    "error"
   ]
  },
  {
   "cell_type": "code",
   "execution_count": 113,
   "id": "c4ab3474",
   "metadata": {},
   "outputs": [
    {
     "data": {
      "image/png": "[encoded data removed]",
      "text/plain": [
       "<Figure size 432x288 with 1 Axes>"
      ]
     },
     "metadata": {
      "needs_background": "light"
     },
     "output_type": "display_data"
    }
   ],
   "source": [
    "#visualising the model performance\n",
    "\n",
    "plt.plot(test_input,test_output,'+',color=\"green\")\n",
    "plt.plot(test_input,predicted_value,'+',color=\"red\")\n",
    "plt.title(\"poly graph\")\n",
    "plt.xlabel(\"input\")\n",
    "plt.ylabel(\"output\")\n",
    "plt.show()"
   ]
  },
  {
   "cell_type": "code",
   "execution_count": null,
   "id": "524357d2",
   "metadata": {},
   "outputs": [],
   "source": []
  }
 ],
 "metadata": {
  "kernelspec": {
   "display_name": "Python 3",
   "language": "python",
   "name": "python3"
  },
  "language_info": {
   "codemirror_mode": {
    "name": "ipython",
    "version": 3
   },
   "file_extension": ".py",
   "mimetype": "text/x-python",
   "name": "python",
   "nbconvert_exporter": "python",
   "pygments_lexer": "ipython3",
   "version": "3.8.8"
  }
 },
 "nbformat": 4,
 "nbformat_minor": 5
}
